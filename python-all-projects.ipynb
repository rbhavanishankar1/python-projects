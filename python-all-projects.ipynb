{
 "cells": [
  {
   "cell_type": "code",
   "execution_count": null,
   "metadata": {},
   "outputs": [
    {
     "name": "stdout",
     "output_type": "stream",
     "text": [
      "welcome to the Band Name Generator\n",
      "\n",
      "\n",
      "Your band name could be  \n"
     ]
    }
   ],
   "source": [
    "print(\"welcome to the Band Name Generator\")\n",
    "city_name=input(\"What's name of the city you grew up in ?\\n\")\n",
    "print(city_name)\n",
    "pet_name=input(\"What's your pet's name?\\n\")\n",
    "print(pet_name)\n",
    "print(\"Your band name could be \"+city_name+\" \"+pet_name)"
   ]
  },
  {
   "cell_type": "code",
   "execution_count": 20,
   "metadata": {},
   "outputs": [
    {
     "name": "stdout",
     "output_type": "stream",
     "text": [
      "89\n",
      "sum of the given digits is :  17\n"
     ]
    }
   ],
   "source": [
    "#adding of digits of the number\n",
    "num=input(\"enter the two digit number\")\n",
    "print(num)\n",
    "sum=0\n",
    "for i in range(0,len(num)):\n",
    "    sum=sum+int(num[i])\n",
    "print(\"sum of the given digits is : \",sum)\n",
    "\n",
    "#print(int(num[0])+int(num[1]))"
   ]
  },
  {
   "cell_type": "markdown",
   "metadata": {},
   "source": [
    "#operation order preference is PEMDASLR"
   ]
  },
  {
   "cell_type": "code",
   "execution_count": 31,
   "metadata": {},
   "outputs": [
    {
     "name": "stdout",
     "output_type": "stream",
     "text": [
      "your BMI WEIGHT IS : 38\n"
     ]
    }
   ],
   "source": [
    "#BMI CHALLENGE\n",
    "weight=float(input(\"enter the weight in kgs : \"))\n",
    "height=float(input(\"enter the height in meter : \"))\n",
    "BMI=weight//(height**2)\n",
    "print(\"your BMI WEIGHT IS :\",int(BMI))"
   ]
  },
  {
   "cell_type": "markdown",
   "metadata": {},
   "source": [
    "#1.round()\n",
    "#2.formated string"
   ]
  },
  {
   "cell_type": "code",
   "execution_count": 35,
   "metadata": {},
   "outputs": [
    {
     "name": "stdout",
     "output_type": "stream",
     "text": [
      "3.3333333333333335\n",
      "3\n",
      "3.33\n",
      "3.33333\n"
     ]
    }
   ],
   "source": [
    "#1.round function\n",
    "a=10\n",
    "b=3\n",
    "c=a/b\n",
    "print(c)\n",
    "print(round(c))\n",
    "print(round(c,2))\n",
    "print(round(c,5))\n"
   ]
  },
  {
   "cell_type": "code",
   "execution_count": 49,
   "metadata": {},
   "outputs": [
    {
     "name": "stdout",
     "output_type": "stream",
     "text": [
      "your name is bhavani,and your age is 20 ,and  your salary is 10000\n",
      "your name is bhavani,and your age is 20,and  your salary is 10000\n"
     ]
    }
   ],
   "source": [
    "#2.formated string\n",
    "name=\"bhavani\"\n",
    "age=20\n",
    "sal=10000\n",
    "print(f\"your name is {name},and your age is {age} ,and  your salary is {sal}\")\n",
    "print(\"your name is {0},and your age is {1},and  your salary is {2}\".format(name,age,sal))\n",
    "\n"
   ]
  },
  {
   "cell_type": "code",
   "execution_count": null,
   "metadata": {},
   "outputs": [],
   "source": []
  },
  {
   "cell_type": "code",
   "execution_count": null,
   "metadata": {},
   "outputs": [],
   "source": []
  },
  {
   "cell_type": "code",
   "execution_count": null,
   "metadata": {},
   "outputs": [],
   "source": []
  },
  {
   "cell_type": "code",
   "execution_count": null,
   "metadata": {},
   "outputs": [],
   "source": []
  },
  {
   "cell_type": "code",
   "execution_count": null,
   "metadata": {},
   "outputs": [],
   "source": []
  }
 ],
 "metadata": {
  "kernelspec": {
   "display_name": "Python 3",
   "language": "python",
   "name": "python3"
  },
  "language_info": {
   "codemirror_mode": {
    "name": "ipython",
    "version": 3
   },
   "file_extension": ".py",
   "mimetype": "text/x-python",
   "name": "python",
   "nbconvert_exporter": "python",
   "pygments_lexer": "ipython3",
   "version": "3.11.4"
  },
  "orig_nbformat": 4
 },
 "nbformat": 4,
 "nbformat_minor": 2
}
