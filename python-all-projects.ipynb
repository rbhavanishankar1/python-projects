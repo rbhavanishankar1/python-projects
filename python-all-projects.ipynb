{
 "cells": [
  {
   "cell_type": "code",
   "execution_count": 1,
   "metadata": {},
   "outputs": [
    {
     "name": "stdout",
     "output_type": "stream",
     "text": [
      "welcome to the Band Name Generator\n",
      "\n",
      "\n",
      "Your band name could be  \n"
     ]
    }
   ],
   "source": [
    "print(\"welcome to the Band Name Generator\")\n",
    "city_name=input(\"What's name of the city you grew up in ?\\n\")\n",
    "print(city_name)\n",
    "pet_name=input(\"What's your pet's name?\\n\")\n",
    "print(pet_name)\n",
    "print(\"Your band name could be \"+city_name+\" \"+pet_name)"
   ]
  },
  {
   "cell_type": "code",
   "execution_count": 2,
   "metadata": {},
   "outputs": [
    {
     "name": "stdout",
     "output_type": "stream",
     "text": [
      "85\n",
      "sum of the given digits is :  13\n"
     ]
    }
   ],
   "source": [
    "#adding of digits of the number\n",
    "num=input(\"enter the two digit number\")\n",
    "print(num)\n",
    "sum=0\n",
    "for i in range(0,len(num)):\n",
    "    sum=sum+int(num[i])\n",
    "print(\"sum of the given digits is : \",sum)\n",
    "\n",
    "#print(int(num[0])+int(num[1]))"
   ]
  },
  {
   "cell_type": "markdown",
   "metadata": {},
   "source": [
    "#operation order preference is PEMDASLR"
   ]
  },
  {
   "cell_type": "code",
   "execution_count": 14,
   "metadata": {},
   "outputs": [
    {
     "name": "stdout",
     "output_type": "stream",
     "text": [
      "your BMI is 33.59,you are obesity\n"
     ]
    }
   ],
   "source": [
    "#BMI CHALLENGE\n",
    "weight=float(input(\"enter the weight in kgs : \"))\n",
    "height=float(input(\"enter the height in meter : \"))\n",
    "BMI=round(weight/(height**2),2)\n",
    "if BMI<18.5:\n",
    "    print(f\"your BMI is {BMI},you are under weight\")\n",
    "elif 18.5<=BMI<25:\n",
    "    print(f\"your BMI is {BMI},you are normal weight\")\n",
    "elif 25<=BMI<30:\n",
    "    print(f\"your BMI is {BMI},you are over weight\")\n",
    "elif 30<=BMI<35:\n",
    "    print(f\"your BMI is {BMI},you are obesity\")\n",
    "else:\n",
    "    print(f\"your BMI is {BMI},you have abnormal obeycity\")"
   ]
  },
  {
   "cell_type": "markdown",
   "metadata": {},
   "source": [
    "#1.round()\n",
    "#2.formated string"
   ]
  },
  {
   "cell_type": "code",
   "execution_count": 4,
   "metadata": {},
   "outputs": [
    {
     "name": "stdout",
     "output_type": "stream",
     "text": [
      "3.3333333333333335\n",
      "3\n",
      "3.33\n",
      "3.33333\n"
     ]
    }
   ],
   "source": [
    "#1.round function\n",
    "a=10\n",
    "b=3\n",
    "c=a/b\n",
    "print(c)\n",
    "print(round(c))\n",
    "print(round(c,2))\n",
    "print(round(c,5))\n"
   ]
  },
  {
   "cell_type": "code",
   "execution_count": 5,
   "metadata": {},
   "outputs": [
    {
     "name": "stdout",
     "output_type": "stream",
     "text": [
      "your name is bhavani,and your age is 20 ,and  your salary is 10000\n",
      "your name is bhavani,and your age is 20,and  your salary is 10000\n"
     ]
    }
   ],
   "source": [
    "#2.formated string\n",
    "name=\"bhavani\"\n",
    "age=20\n",
    "sal=10000\n",
    "print(f\"your name is {name},and your age is {age} ,and  your salary is {sal}\")\n",
    "print(\"your name is {0},and your age is {1},and  your salary is {2}\".format(name,age,sal))\n",
    "\n"
   ]
  },
  {
   "cell_type": "code",
   "execution_count": 12,
   "metadata": {},
   "outputs": [
    {
     "name": "stdout",
     "output_type": "stream",
     "text": [
      "you have 3650 Days,520 Weaks,120 Months,10 Years\n"
     ]
    }
   ],
   "source": [
    "#calculate the how many months and how many weeks or \n",
    "# how many days lest for dead if we have the 90 year of life span\n",
    "age=int(input(\"what is your current age ?\"))\n",
    "Days=(90-age)*365\n",
    "Weaks=(90-age)*52\n",
    "Months=(90-age)*12\n",
    "Years=90-age\n",
    "print(\"you have {0} Days,{1} Weaks,{2} Months,{3} Years\".format(Days,Weaks,Months,Years))"
   ]
  },
  {
   "cell_type": "code",
   "execution_count": 22,
   "metadata": {},
   "outputs": [
    {
     "name": "stdout",
     "output_type": "stream",
     "text": [
      "Welcome to the tip calculator.\n",
      "Each person should pay ? 35.29\n"
     ]
    }
   ],
   "source": [
    "#claculating the bill and spliting among the members\n",
    "print(\"Welcome to the tip calculator.\")\n",
    "Bill=float(input(\"What was the total bill ? $\"))\n",
    "tip=float(input(\"What percentage tip do u like to give ? 10,12 or 15 \"))\n",
    "Total_bill=Bill+((tip/100)*Bill)\n",
    "people=int(input(\"How many people split the Bill ?\"))\n",
    "pay=(Total_bill)/(people)\n",
    "Each_pay=round((pay),2)\n",
    "print(\"Each person should pay ?\",Each_pay)"
   ]
  },
  {
   "cell_type": "code",
   "execution_count": 4,
   "metadata": {},
   "outputs": [
    {
     "name": "stdout",
     "output_type": "stream",
     "text": [
      "you have entered 524789 it is odd number\n"
     ]
    }
   ],
   "source": [
    "#finding even or not\n",
    "n=int(input(\"enter the number\"))\n",
    "if n%2==0:\n",
    "    print(f\"you have entered {n} it is even number\")\n",
    "else:\n",
    "    print(f\"you have entered {n} it is odd number\")"
   ]
  },
  {
   "cell_type": "code",
   "execution_count": 6,
   "metadata": {},
   "outputs": [
    {
     "name": "stdout",
     "output_type": "stream",
     "text": [
      "your are not elgible for ride beacuse u r 15 cm height it is below 12 cm\n"
     ]
    }
   ],
   "source": [
    "#elgiblity_check_for_ride_of_roller_coaster.\n",
    "height=int(input(\"enter the height in the cm\"))\n",
    "if height>=120:\n",
    "    print(\"you are elgible for rollercoaster ride\")\n",
    "    age=int(input(\"enter the your age \"))\n",
    "    if age<12:\n",
    "        print(\"your ticket price is $5\")\n",
    "    elif 12<=age<=18:\n",
    "        print(\"your ticket price is $7\")\n",
    "    elif 45<=age<=55:\n",
    "        print(\"\")\n",
    "    else:\n",
    "        print(\"your ticket price is $12\")\n",
    "else:\n",
    "    print(f\"your are not elgible for ride beacuse u r {height} cm height it is below 120 cm\")"
   ]
  },
  {
   "cell_type": "code",
   "execution_count": 21,
   "metadata": {},
   "outputs": [
    {
     "name": "stdout",
     "output_type": "stream",
     "text": [
      "2024 is a laep year\n"
     ]
    }
   ],
   "source": [
    "#leap year programme\n",
    "year=int(input(\"enter the year : \"))\n",
    "if (year%4)==0:\n",
    "    if (year%100)==0:\n",
    "        if (year%400)==0:\n",
    "            print(f\"{year} is a leap year\")\n",
    "        else:\n",
    "            print(f\"{year} is not a laep year\")\n",
    "    else:\n",
    "         print(f\"{year} is a laep year\")\n",
    "\n",
    "else:\n",
    "    print(f\"{year} is not a laep year\")"
   ]
  },
  {
   "cell_type": "code",
   "execution_count": 5,
   "metadata": {},
   "outputs": [
    {
     "name": "stdout",
     "output_type": "stream",
     "text": [
      "you are elgible for rollercoaster ride\n",
      "Adult ticket price is $12\n",
      "total bill u have to pay:$ 12\n"
     ]
    }
   ],
   "source": [
    "#elgiblity_check_for_ride_of_roller_coaster.\n",
    "height=int(input(\"enter the height in the cm: \"))\n",
    "if height>=120:\n",
    "    print(\"you are elgible for rollercoaster ride\")\n",
    "    age=int(input(\"enter the your age: \"))\n",
    "    if age<12:\n",
    "        print(\"child ticket price is $5\")\n",
    "        bill=5\n",
    "    elif 12<=age<=18:\n",
    "        print(\"youth ticket price is $7\")\n",
    "        bill=7\n",
    "    else:\n",
    "        print(\"Adult ticket price is $12\")\n",
    "        bill=12\n",
    "    want_photo=input(\"eneter the Y if u want photo\").upper()\n",
    "    if want_photo==\"Y\":\n",
    "        print(\"cost for each photo is $3\")\n",
    "        bill+=3\n",
    "    print(\"total bill u have to pay:$\",bill)  \n",
    "else:\n",
    "    print(f\"your are not elgible for ride beacuse u r {height} cm height it is below 120 cm\")"
   ]
  },
  {
   "cell_type": "code",
   "execution_count": 23,
   "metadata": {},
   "outputs": [
    {
     "name": "stdout",
     "output_type": "stream",
     "text": [
      "YOU have entered first name is hii\n",
      "YOU have entered second name is hellow\n",
      "your love percentage is 14\n",
      "your score is 14 \n"
     ]
    }
   ],
   "source": [
    "#love score clculator\n",
    "name1=input(\"enter the first name\").lower()\n",
    "name2=input(\"enter the second name\").lower()\n",
    "print(f\"YOU have entered first name is {name1}\")\n",
    "print(f\"YOU have entered second name is {name2}\")\n",
    "\n",
    "T=name1.count(\"t\")+name2.count(\"t\")\n",
    "R=name1.count(\"r\")+name2.count(\"r\")\n",
    "U=name1.count(\"u\")+name2.count(\"u\")\n",
    "E=name1.count(\"e\")+name2.count(\"e\")\n",
    "first_digit=str(T+R+U+E)\n",
    "\n",
    "L=name1.count(\"l\")+name2.count(\"l\")\n",
    "O=name1.count(\"o\")+name2.count(\"o\")\n",
    "V=name1.count(\"v\")+name2.count(\"v\")\n",
    "E=name1.count(\"e\")+name2.count(\"e\")\n",
    "second_digit=str(L+O+V+E)\n",
    "\n",
    "love_percentage=int(first_digit+second_digit)\n",
    "\n",
    "print(f\"your love percentage is {love_percentage}\")\n",
    "\n",
    "if 90<love_percentage<10:\n",
    "    print(f\"your score is {love_percentage} you go together like coke and mentos\")\n",
    "elif 40<love_percentage<50:\n",
    "    print(f\"your score is {love_percentage} you are alright together\")\n",
    "else:\n",
    "    print(f\"your score is {love_percentage} \")\n"
   ]
  },
  {
   "cell_type": "code",
   "execution_count": 44,
   "metadata": {},
   "outputs": [
    {
     "name": "stdout",
     "output_type": "stream",
     "text": [
      "Head\n",
      "Tail\n"
     ]
    }
   ],
   "source": [
    "#creating a head and taile by using the random method\n",
    "import random\n",
    "l=[\"Head\",\"Tail\"]\n",
    "random_num=int(random.random()*2)\n",
    "print(l[random_num])\n",
    "#or we can write the above programme\n",
    "if random_num==1:\n",
    "    print(\"Head\")\n",
    "else:\n",
    "    print(\"Tail\")"
   ]
  },
  {
   "cell_type": "code",
   "execution_count": 50,
   "metadata": {},
   "outputs": [
    {
     "name": "stdout",
     "output_type": "stream",
     "text": [
      "['']\n"
     ]
    }
   ],
   "source": [
    "#we can use split method to get the enteed value \n",
    "# by using , we get the sepaarte value\n",
    "#i/p:hii,hellow\n",
    "#o/p:['hii', 'hellow']\n",
    "\n",
    "names=input(\"enter the names\")\n",
    "a=names.split(\",\")\n",
    "print(a)\n"
   ]
  },
  {
   "cell_type": "code",
   "execution_count": 1,
   "metadata": {},
   "outputs": [
    {
     "name": "stdout",
     "output_type": "stream",
     "text": [
      "before the insertion\n",
      "['🟨', '🟨', '🟨']\n",
      "['🟨', '🟨', '🟨']\n",
      "['🟨', '🟨', '🟨']\n",
      "2 3\n",
      "after the insertion\n",
      "['🟨', '🟨', '🟨']\n",
      "['🟨', '🟨', ' x '] \n",
      "['🟨', '🟨', '🟨'] \n"
     ]
    }
   ],
   "source": [
    "#nested list project\n",
    "row_1=[\"🟨\",\"🟨\",\"🟨\"]\n",
    "row_2=[\"🟨\",\"🟨\",\"🟨\"]\n",
    "row_3=[\"🟨\",\"🟨\",\"🟨\"]\n",
    "row=[row_1,row_2,row_3]\n",
    "print(\"before the insertion\")\n",
    "print(f\"{row_1}\\n{row_2}\\n{row_3}\")\n",
    "position=int(input(\"enter the position where u have to nsert the table\"))\n",
    "first=position//10\n",
    "second=position-(first*10)\n",
    "print(first,second)\n",
    "row[first-1][second-1]=\" x \"\n",
    "print(\"after the insertion\")\n",
    "print(f\"{row_1}\\n{row_2} \\n{row_3} \")"
   ]
  },
  {
   "cell_type": "code",
   "execution_count": 1,
   "metadata": {},
   "outputs": [
    {
     "name": "stdout",
     "output_type": "stream",
     "text": [
      "\n",
      "    _______\n",
      "---'   ____)\n",
      "      (_____)\n",
      "      (_____)\n",
      "      (____)\n",
      "---.__(___)\n",
      "\n",
      "\n",
      "    _______\n",
      "---'   ____)\n",
      "      (_____)\n",
      "      (_____)\n",
      "      (____)\n",
      "---.__(___)\n",
      "\n",
      "computer input rock and user input is rock\n",
      "you have draw the match but you dont get any points \n",
      "0 0\n",
      "\n",
      "     _______\n",
      "---'    ____)____\n",
      "           ______)\n",
      "          _______)\n",
      "         _______)\n",
      "---.__________)\n",
      "\n",
      "\n",
      "     _______\n",
      "---'    ____)____\n",
      "           ______)\n",
      "          _______)\n",
      "         _______)\n",
      "---.__________)\n",
      "\n",
      "computer input paper and user input is paper\n",
      "you have draw the match but you dont get any points \n",
      "0 0\n",
      "\n",
      "    _______\n",
      "---'   ____)____\n",
      "          ______)\n",
      "       __________)\n",
      "      (____)\n",
      "---.__(___)\n",
      "\n",
      "\n",
      "     _______\n",
      "---'    ____)____\n",
      "           ______)\n",
      "          _______)\n",
      "         _______)\n",
      "---.__________)\n",
      "\n",
      "computer input paper and user input is scissors\n",
      "you win! by scissors over a paper\n",
      "1 0\n",
      " 😎😎 YOU HAVE WIN THE GAME BRO!😎😎\n"
     ]
    }
   ],
   "source": [
    "import random\n",
    "import sqlite3\n",
    "\n",
    "Rock=\"\"\"\n",
    "    _______\n",
    "---'   ____)\n",
    "      (_____)\n",
    "      (_____)\n",
    "      (____)\n",
    "---.__(___)\n",
    "\"\"\"\n",
    "\n",
    "Paper=\"\"\"\n",
    "     _______\n",
    "---'    ____)____\n",
    "           ______)\n",
    "          _______)\n",
    "         _______)\n",
    "---.__________)\n",
    "\"\"\"\n",
    "\n",
    "Scissors= \"\"\"\n",
    "    _______\n",
    "---'   ____)____\n",
    "          ______)\n",
    "       __________)\n",
    "      (____)\n",
    "---.__(___)\n",
    "\"\"\"\n",
    "\n",
    "no_of_round=int(input(\"enter the no-of rounds :\" ))\n",
    "user_count=0\n",
    "com_count=0\n",
    "for i in range(0,no_of_round):\n",
    "#user giving input\n",
    "    user_input=int(input(\"enter 1.Rock 2.Paper 3.Scissors :\"))\n",
    "    if user_input==1:\n",
    "        print(Rock)\n",
    "    elif user_input==2:\n",
    "        print(Paper)\n",
    "    elif user_input==3:\n",
    "        print(Scissors)\n",
    "    else:\n",
    "        print(\"please enter the valid number\")\n",
    "\n",
    "    \n",
    "    #computer random generated value\n",
    "    com_input=int(random.randint(1,3))\n",
    "\n",
    "    if com_input==1:\n",
    "        print(Rock)\n",
    "    if com_input==2:\n",
    "        print(Paper)\n",
    "    if com_input==3:\n",
    "        print(Scissors)\n",
    "    \n",
    "  \n",
    "    \n",
    "    #declaring winner\n",
    "    image=[\"\",\"rock\",\"paper\",\"scissors\"]\n",
    "    print(f\"computer input {image[com_input]} and user input is {image[user_input]}\")\n",
    "    if user_input==com_input:\n",
    "        print(\"you have draw the match but you dont get any points \")\n",
    "    elif  user_input==1 and com_input==3:\n",
    "        print(\"you win! by Rock over a scissors\")\n",
    "        user_count+=1\n",
    "    elif user_input==2 and com_input==1:\n",
    "        print(\"you win! by paper over a rock\")\n",
    "        user_count+=1\n",
    "    elif  user_input==3 and com_input==2:\n",
    "        print(\"you win! by scissors over a paper\")\n",
    "        user_count+=1\n",
    "    else:\n",
    "        print(\"you lose!!!\")\n",
    "        com_count+=1  \n",
    "    print(user_count,com_count)\n",
    "#connecting to the sql and redirecting data to sql\n",
    "    db=sqlite3.connect(\"Win_declare_database.db\")\n",
    "    cursor=db.cursor()\n",
    "    dcom_input=image[com_input]\n",
    "    duser_input=image[user_input]\n",
    "    dresult=(\"win\" if user_count>com_count else (\"Draw\" if user_count==com_count else \"lose\"))\n",
    "    val=[dcom_input,duser_input, user_count,com_count ,dresult]\n",
    "    cursor.execute(\"insert into win_declare(dcom_input,duser_input,user_count,com_count ,dresult) values(?,?,?,?,?)\",val)\n",
    "    db.commit()\n",
    "    db.close()\n",
    "\n",
    "#adding points to the winner and declaring the winner\n",
    "if com_count>user_count:\n",
    "    print(\"😭😭YOU HAVE LOST THE MATCH😭😭\")\n",
    "elif user_count>com_count:\n",
    "    print(\" 😎😎 YOU HAVE WIN THE GAME BRO!😎😎\")\n",
    "elif user_count==com_count:\n",
    "    print(\"you have DRAW the match\")\n",
    "else:\n",
    "    print(\"something went wrong\")\n",
    "\n",
    "\n"
   ]
  },
  {
   "cell_type": "code",
   "execution_count": 11,
   "metadata": {},
   "outputs": [
    {
     "data": {
      "text/plain": [
       "1"
      ]
     },
     "execution_count": 11,
     "metadata": {},
     "output_type": "execute_result"
    }
   ],
   "source": [
    "import random\n",
    "random.randint(1,3)"
   ]
  },
  {
   "cell_type": "code",
   "execution_count": 35,
   "metadata": {},
   "outputs": [
    {
     "name": "stdout",
     "output_type": "stream",
     "text": [
      "Welcome to pypassword Generator!\n",
      "enter the only 2 numbers\n"
     ]
    }
   ],
   "source": [
    "#python password generator\n",
    "print(\"Welcome to pypassword Generator!\")\n",
    "password_letters=int(input(\"How many Letters Could You Have in the Password\"))\n",
    "symbol=int(input(\"How many symbol Could You Like to have\"))\n",
    "number=int(input(\"How many number Could You Like to have\"))\n",
    "password_letters_count=0\n",
    "symbol_count=0\n",
    "number_count=0\n",
    "password=input(\"enter the password :\")\n",
    "for i in password:\n",
    "    if \"1\"<=i<=\"9\":\n",
    "        number_count+=1\n",
    "    elif not(\"A\"<=i<=\"Z\" or \"a\"<=i<=\"z\"):\n",
    "        symbol_count+=1\n",
    "    else:\n",
    "        password_letters_count+=1\n",
    "if symbol==symbol_count and number==number_count and symbol==symbol_count:\n",
    "    print(\"your password is :\",password)\n",
    "elif symbol!=symbol_count:\n",
    "    print(f\"enter the only {symbol} symbols \")\n",
    "elif number!=number_count:\n",
    "    print(f\"enter the only {number} numbers\")\n",
    "elif password!=password_letter_count:\n",
    "    print(f\"enetr the only {password} charcters for symbol\")\n",
    "else:\n",
    "    print(\"pls! enter the valid password\")\n"
   ]
  },
  {
   "cell_type": "code",
   "execution_count": 22,
   "metadata": {},
   "outputs": [
    {
     "name": "stdout",
     "output_type": "stream",
     "text": [
      "students list is :  ['52', '68', '98', '65']\n",
      "average among the list is :  2\n",
      "average of heights:  70\n",
      "number of heights 4\n"
     ]
    }
   ],
   "source": [
    "#average height\n",
    "stu_heights=input(\"enter the student height\").split()\n",
    "sum=0\n",
    "for stu in range(0,len(stu_heights)):\n",
    "    sum+=int(stu_heights[stu])\n",
    "print(\"students list is : \",stu_heights)\n",
    "avg=str(sum//len(stu_heights))\n",
    "for stu in range(0,len(stu_heights)):\n",
    "    if avg<stu_heights[stu]:\n",
    "        print(\"average among the list is : \",stu)\n",
    "print(\"average of heights: \",avg)\n",
    "print(\"number of heights\",(len(stu_heights)))"
   ]
  },
  {
   "cell_type": "code",
   "execution_count": null,
   "metadata": {},
   "outputs": [],
   "source": [
    "#connecting the sql \n",
    "import sqlite3\n",
    "db=sqlite3.connect(\"game_result.db\")\n",
    "print(db)\n",
    "cur=db.cursor()\n",
    "cur.execute(\"create table result(name varchar(50)   ) \")"
   ]
  },
  {
   "cell_type": "code",
   "execution_count": null,
   "metadata": {},
   "outputs": [],
   "source": [
    "import sqlite3\n",
    "db=sqlite3.connect(\"emp.db\")\n",
    "print(db)\n",
    "cur=db.cursor()\n",
    "cur.execute(\"create table employee(id int primary key,name varchar(50),email varchar(50),phone big int)\")\n",
    "print(cur.rowcount)\n",
    "db.commit()\n",
    "db.close()"
   ]
  },
  {
   "cell_type": "code",
   "execution_count": 1,
   "metadata": {},
   "outputs": [],
   "source": [
    "import sqlite3\n",
    "db=sqlite3.connect(\"Win_declare_database.db\")\n",
    "cursor=db.cursor()\n",
    "cursor.execute(\"create table IF NOT EXISTS win_declare(dcom_input varchar(50),duser_input varchar(50),user_count int ,com_count int,dresult varchar(50))\")\n",
    "db.commit()\n",
    "db.close()"
   ]
  },
  {
   "cell_type": "code",
   "execution_count": 3,
   "metadata": {},
   "outputs": [],
   "source": [
    "import sqlite3\n",
    "db=sqlite3.connect(\"Win_declare_database.db\")\n",
    "cursor=db.cursor()\n",
    "\n",
    "dcom_input=input(\"enter the computer input\")\n",
    "duser_input=input(\"enter th user input\")\n",
    "dresult=input(\"enter the result\")\n",
    "val=[dcom_input,duser_input,dresult]\n",
    "cursor.execute(\"insert into win_declare(dcom_input,duser_input,dresult) values(?,?,?)\",val)\n",
    "db.commit()\n",
    "db.close()"
   ]
  },
  {
   "cell_type": "code",
   "execution_count": 53,
   "metadata": {},
   "outputs": [
    {
     "name": "stdout",
     "output_type": "stream",
     "text": [
      "first maximum of given number is:  89\n",
      "second maximum numer is : 56\n",
      "[12, 56, 89, 52, 65]\n"
     ]
    }
   ],
   "source": [
    "#max of given number\n",
    "numbers=input(\"enter the numbers\").split()\n",
    "max1=0\n",
    "max2=0\n",
    "max3=0\n",
    "for i in range(0,len(numbers)):\n",
    "    numbers[i]=int(numbers[i])\n",
    "    if numbers[i]>=max1:\n",
    "        max2=max1\n",
    "        max1=numbers[i]\n",
    "print(\"first maximum of given number is: \",max1)\n",
    "print(\"second maximum numer is :\",max2)\n",
    "print(numbers)"
   ]
  },
  {
   "cell_type": "code",
   "execution_count": 25,
   "metadata": {},
   "outputs": [
    {
     "name": "stdout",
     "output_type": "stream",
     "text": [
      "sum of the all even numbers is : 2550\n"
     ]
    }
   ],
   "source": [
    "#sum of all the even numbers\n",
    "sum=0\n",
    "for i in range(1,101):\n",
    "    if i%2==0:\n",
    "        sum+=i\n",
    "print(\"sum of the all even numbers is :\",sum)\n",
    "    \n"
   ]
  },
  {
   "cell_type": "code",
   "execution_count": 32,
   "metadata": {},
   "outputs": [
    {
     "name": "stdout",
     "output_type": "stream",
     "text": [
      "1\n",
      "2\n",
      "Fizz\n",
      "4\n",
      "Buzz\n",
      "Fizz\n",
      "7\n",
      "8\n",
      "Fizz\n",
      "Buzz\n",
      "11\n",
      "Fizz\n",
      "13\n",
      "14\n",
      "FizzBuzz\n",
      "16\n",
      "17\n",
      "Fizz\n",
      "19\n",
      "Buzz\n",
      "Fizz\n",
      "22\n",
      "23\n",
      "Fizz\n",
      "Buzz\n",
      "26\n",
      "Fizz\n",
      "28\n",
      "29\n",
      "FizzBuzz\n",
      "31\n",
      "32\n",
      "Fizz\n",
      "34\n",
      "Buzz\n",
      "Fizz\n",
      "37\n",
      "38\n",
      "Fizz\n",
      "Buzz\n",
      "41\n",
      "Fizz\n",
      "43\n",
      "44\n",
      "FizzBuzz\n",
      "46\n",
      "47\n",
      "Fizz\n",
      "49\n",
      "Buzz\n",
      "Fizz\n",
      "52\n",
      "53\n",
      "Fizz\n",
      "Buzz\n",
      "56\n",
      "Fizz\n",
      "58\n",
      "59\n",
      "FizzBuzz\n",
      "61\n",
      "62\n",
      "Fizz\n",
      "64\n",
      "Buzz\n",
      "Fizz\n",
      "67\n",
      "68\n",
      "Fizz\n",
      "Buzz\n",
      "71\n",
      "Fizz\n",
      "73\n",
      "74\n",
      "FizzBuzz\n",
      "76\n",
      "77\n",
      "Fizz\n",
      "79\n",
      "Buzz\n",
      "Fizz\n",
      "82\n",
      "83\n",
      "Fizz\n",
      "Buzz\n",
      "86\n",
      "Fizz\n",
      "88\n",
      "89\n",
      "FizzBuzz\n",
      "91\n",
      "92\n",
      "Fizz\n",
      "94\n",
      "Buzz\n",
      "Fizz\n",
      "97\n",
      "98\n",
      "Fizz\n",
      "Buzz\n"
     ]
    }
   ],
   "source": [
    "# if numdiv by 3 fizz by 5 buzz by 3 and 5 is fizzbuzz\n",
    "for i in range(1,101):\n",
    "    if i%3==0 and i%5==0:\n",
    "        print(\"FizzBuzz\")\n",
    "    elif i%5==0:\n",
    "        print(\"Buzz\")\n",
    "    elif i%3==0:\n",
    "        print(\"Fizz\")\n",
    "    else:\n",
    "        print(i)"
   ]
  },
  {
   "cell_type": "code",
   "execution_count": null,
   "metadata": {},
   "outputs": [],
   "source": []
  },
  {
   "cell_type": "code",
   "execution_count": 5,
   "metadata": {},
   "outputs": [
    {
     "name": "stdout",
     "output_type": "stream",
     "text": [
      "22\n",
      "difference -4 value is  26 avg1 []\n",
      "difference -11 value is  33 avg1 []\n",
      "difference 5 value is  17 avg1 [5]\n",
      "difference 11 value is  11 avg1 [5, 11]\n",
      "difference 13 value is  9 avg1 [5, 11, 13]\n",
      "difference 16 value is  6 avg1 [5, 11, 13, 16]\n",
      "difference 10 value is  12 avg1 [5, 11, 13, 16, 10]\n",
      "[5, 11, 13, 16, 10]\n",
      "first min value is: 5\n",
      "5\n",
      "5\n",
      "5\n",
      "5\n",
      "5\n",
      "avg value among the list is : 17\n"
     ]
    }
   ],
   "source": [
    "#average among the list \n",
    "l=[26,33,17,11,9,6,12]\n",
    "avg=22\n",
    "print(avg)\n",
    "avg1=[]\n",
    "for i in l:\n",
    "    k=avg-i\n",
    "    if k>=0: \n",
    "        avg1+=[k]\n",
    "    print(\"difference\",k,\"value is \",i,\"avg1\",avg1)\n",
    "print(avg1)\n",
    "min=avg1[0]\n",
    "print(\"first min value is:\",min)\n",
    "for j in range(0,len(avg1)):\n",
    "    if avg1[j]<min:\n",
    "        min=avg1[j]\n",
    "    print(min)\n",
    "for m in l:\n",
    "    if min+m==avg:\n",
    "        print(\"avg value among the list is :\",m)\n"
   ]
  },
  {
   "cell_type": "code",
   "execution_count": 89,
   "metadata": {},
   "outputs": [
    {
     "name": "stdout",
     "output_type": "stream",
     "text": [
      "2\n",
      "min value is : 2\n",
      "4\n",
      "min value is : 2\n"
     ]
    }
   ],
   "source": [
    "m=[2,4]\n",
    "min=m[0]\n",
    "for i in range(0,len(m)):\n",
    "    print(m[i])\n",
    "    if m[i]<min:\n",
    "        min=m[i]\n",
    "    print(\"min value is :\",min)"
   ]
  },
  {
   "cell_type": "code",
   "execution_count": 4,
   "metadata": {},
   "outputs": [
    {
     "name": "stdout",
     "output_type": "stream",
     "text": [
      "0.6408541770123732\n"
     ]
    }
   ],
   "source": [
    "import random\n",
    "a=random.random()\n",
    "print(a)"
   ]
  },
  {
   "cell_type": "code",
   "execution_count": 6,
   "metadata": {},
   "outputs": [
    {
     "name": "stdout",
     "output_type": "stream",
     "text": [
      "pineapple <class 'str'>\n",
      "[\" '_'  '_'  '_'  '_'  '_'  '_'  '_'  '_'  '_' \"]\n",
      "Right\n",
      "wrong\n",
      "wrong\n",
      "wrong\n",
      "wrong\n",
      "Right\n",
      "Right\n",
      "wrong\n",
      "wrong\n"
     ]
    }
   ],
   "source": [
    "import random\n",
    "word=[\"apple\",\"pineapple\",\"banana\",\"grape\"]\n",
    "#choosing the random variable and assigning to word_chosen\n",
    "word_chosen=random.choice(word)\n",
    "print(word_chosen,type(word_chosen))\n",
    "guess=input(\"guess the letter\").lower()\n",
    "count=0\n",
    "word_length=len(word_chosen)\n",
    "blank_space=[\" '_' \"*word_length]\n",
    "print(blank_space)\n",
    "\n",
    "for letter in word_chosen:\n",
    "    if letter==guess:\n",
    "        print(\"Right\",)\n",
    "    else :\n",
    "        print(\"wrong\")\n"
   ]
  },
  {
   "cell_type": "code",
   "execution_count": 82,
   "metadata": {},
   "outputs": [
    {
     "name": "stdout",
     "output_type": "stream",
     "text": [
      "The number : 1 is  prime number\n",
      "The number : 2 is  prime number\n",
      "The number : 3 is  prime number\n",
      "The number : 4 is not prime number\n",
      "The number : 5 is  prime number\n",
      "The number : 6 is not prime number\n",
      "The number : 7 is  prime number\n",
      "The number : 8 is not prime number\n",
      "The number : 9 is not prime number\n",
      "The number : 10 is not prime number\n",
      "The number : 11 is  prime number\n",
      "The number : 12 is not prime number\n",
      "The number : 13 is  prime number\n",
      "The number : 14 is not prime number\n",
      "The number : 15 is not prime number\n",
      "The number : 16 is not prime number\n",
      "The number : 17 is  prime number\n",
      "The number : 18 is not prime number\n",
      "The number : 19 is  prime number\n",
      "The number : 20 is not prime number\n",
      "The number : 21 is not prime number\n",
      "The number : 22 is not prime number\n",
      "The number : 23 is  prime number\n",
      "The number : 24 is not prime number\n",
      "The number : 25 is not prime number\n"
     ]
    }
   ],
   "source": [
    "#finding the prime number\n",
    "n=int(input(\"enter the number to check wheather given number iws prime number or not :\"))\n",
    "def prime(n):\n",
    "    prime_number=[]\n",
    "    non_prime=[]\n",
    "    pcount=0\n",
    "    for i in range(2,n+1):\n",
    "        n1=n%i\n",
    "        if n1==0 :\n",
    "            pcount+=1\n",
    "    if pcount>1:\n",
    "        print(f\"The number : {n} is not prime number\")\n",
    "    else:\n",
    "        print(f\"The number : {n} is  prime number\")   \n",
    "for j in range(1,n+1):\n",
    "    n+=1\n",
    "    prime(j) \n",
    "    "
   ]
  },
  {
   "cell_type": "code",
   "execution_count": 94,
   "metadata": {},
   "outputs": [
    {
     "data": {
      "text/plain": [
       "'A'"
      ]
     },
     "execution_count": 94,
     "metadata": {},
     "output_type": "execute_result"
    }
   ],
   "source": [
    "#shift\n",
    "# for i in range()\n",
    "ord(\"Z\")\n",
    "# 65,90\n",
    "# 97,122\n",
    "chr(65)"
   ]
  },
  {
   "cell_type": "code",
   "execution_count": 118,
   "metadata": {},
   "outputs": [
    {
     "name": "stdout",
     "output_type": "stream",
     "text": [
      "encode\n",
      "your shift number is: 3\n",
      "your encode message is :  kll\n",
      "your message is before encode : hii\n"
     ]
    }
   ],
   "source": [
    "def conformation():\n",
    "    user_input=input(\"Type 'encode' to encrypt,type 'decode' to decrypt :  \").lower()\n",
    "    print(user_input)\n",
    "    user_message=input(\"Type your message : \")\n",
    "    shift_number=int(input(\"Type the shift number : \"))\n",
    "    print(f\"your shift number is: {shift_number}\")\n",
    "def encryption():\n",
    "    st=\"\"\n",
    "    st1=\"\"\n",
    "    if user_input==\"encode\":\n",
    "        for i in user_message:\n",
    "            encode=chr(ord(i)+shift_number)\n",
    "            st+=encode\n",
    "        print(\"your encode message is : \",st)\n",
    "        print(f\"your message is before encode : {user_message}\")\n",
    "\n",
    "    elif user_input==\"decode\":\n",
    "        for j in user_message:\n",
    "            decode=ord(chr(i)+shift_number)\n",
    "            st1+=decode\n",
    "        print(\"your decode messgae is :\",st1)\n",
    "        print(f\"your message is before decode : {user_message}\")\n",
    "\n",
    "    else:\n",
    "        print(f\"please! check the input u have entered {user_input}\")\n",
    "conformation()\n",
    "encryption()\n",
    "conform=input(\"Type 'yes' if you want to go again.Otherwise type 'no' :\").lower()\n",
    "if conform==\"yes\":\n",
    "    conformation()\n",
    "    encryption()\n",
    "else:\n",
    "    pass\n"
   ]
  },
  {
   "cell_type": "code",
   "execution_count": 2,
   "metadata": {},
   "outputs": [
    {
     "name": "stdout",
     "output_type": "stream",
     "text": [
      "byee you are sucess fully terminated\n"
     ]
    },
    {
     "ename": "",
     "evalue": "",
     "output_type": "error",
     "traceback": [
      "\u001b[1;31mThe Kernel crashed while executing code in the the current cell or a previous cell. Please review the code in the cell(s) to identify a possible cause of the failure. Click <a href='https://aka.ms/vscodeJupyterKernelCrash'>here</a> for more info. View Jupyter <a href='command:jupyter.viewOutput'>log</a> for further details."
     ]
    }
   ],
   "source": [
    "conform=input(\"Type 'yes' if you want to go again.Otherwise type 'no' :\").lower()\n",
    "should_conform=True\n",
    "while should_conform: \n",
    "    if conform==\"yes\":\n",
    "        conformation()\n",
    "        encryption(user_input1=user_input,user_message1=user_message)\n",
    "    elif conform==\"no\":\n",
    "        should_conform=False\n",
    "        print(\"byee you are sucess fully terminated\")\n"
   ]
  },
  {
   "cell_type": "code",
   "execution_count": 2,
   "metadata": {},
   "outputs": [
    {
     "name": "stdout",
     "output_type": "stream",
     "text": [
      "encode\n",
      "hii\n",
      "your shift number is: 3\n",
      "your message is before encode : hii\n",
      "your encode message is :  kll\n",
      "encode\n",
      "hellow\n",
      "your shift number is: 3\n",
      "your message is before encode : hellow\n",
      "your encode message is :  khoorz\n",
      "byee you are sucess fully terminated\n"
     ]
    }
   ],
   "source": [
    "\n",
    "def conformation():\n",
    "    global user_input\n",
    "    user_input=input(\"Type 'encode' to encrypt,type 'decode' to decrypt :  \").lower()\n",
    "    print(user_input)\n",
    "    global user_message\n",
    "    user_message=input(\"Type your message : \")\n",
    "    print(user_message)\n",
    "    global shift_number\n",
    "    shift_number=int(input(\"Type the shift number : \"))\n",
    "    print(f\"your shift number is: {shift_number}\")\n",
    "\n",
    "def encryption(user_input1,user_message1):\n",
    "    st=\"\"\n",
    "    st1=\"\"\n",
    "    if user_input1==\"encode\":\n",
    "        for i in user_message1:\n",
    "            encode=chr(ord(i)+shift_number)\n",
    "            st+=encode\n",
    "        print(f\"your message is before encode : {user_message1}\")\n",
    "        print(\"your encode message is : \",st)\n",
    "\n",
    "    elif user_input1==\"decode\":\n",
    "        for j in user_message1:\n",
    "            decode=chr(ord(j)-shift_number)\n",
    "            st1+=decode\n",
    "        print(f\"your message is before decode : {user_message1}\")\n",
    "        print(\"your decode messgae is :\",st1)\n",
    "\n",
    "    else:\n",
    "        print(f\"please! check the input u have entered {user_input1}\")\n",
    "\n",
    "conformation()\n",
    "encryption(user_input1=user_input,user_message1=user_message)\n",
    "\n",
    "should_conform=True\n",
    "while should_conform: \n",
    "    conform=input(\"Type 'yes' if you want to go again.Otherwise type 'no' :\").lower()\n",
    "    if conform==\"yes\":\n",
    "        conformation()\n",
    "        encryption(user_input1=user_input,user_message1=user_message)\n",
    "    elif conform==\"no\":\n",
    "        should_conform=False\n",
    "        print(\"byee you are sucess fully terminated\")\n",
    "    else:\n",
    "        pass\n"
   ]
  },
  {
   "cell_type": "code",
   "execution_count": 3,
   "metadata": {},
   "outputs": [
    {
     "name": "stdout",
     "output_type": "stream",
     "text": [
      "hii\n"
     ]
    }
   ],
   "source": [
    "print(\"hii\")"
   ]
  },
  {
   "cell_type": "code",
   "execution_count": 7,
   "metadata": {},
   "outputs": [
    {
     "name": "stdout",
     "output_type": "stream",
     "text": [
      "['paris', 'lille', 'dijon']\n",
      "['Berlin', 'Hamburg', 'Stuttgart']\n"
     ]
    }
   ],
   "source": [
    "#nesting the dictonary in the list\n",
    "travel_log={\n",
    "    \"frence\":[\"paris\",\"lille\",\"dijon\"],\n",
    "    \"Germany\":[\"Berlin\",\"Hamburg\",\"Stuttgart\"]\n",
    "}\n",
    "for i in travel_log:\n",
    "    print(travel_log[i])\n"
   ]
  },
  {
   "cell_type": "code",
   "execution_count": 8,
   "metadata": {},
   "outputs": [
    {
     "name": "stdout",
     "output_type": "stream",
     "text": [
      "{'cities_visited': ['paris', 'lille', 'dijon']}\n",
      "['Berlin', 'Hamburg', 'Stuttgart']\n"
     ]
    }
   ],
   "source": [
    "#nesting the dictonary in the dictonary\n",
    "travel_log={\n",
    "    \"frence\":{\"cities_visited\":[\"paris\",\"lille\",\"dijon\"]},\n",
    "    \"Germany\":[\"Berlin\",\"Hamburg\",\"Stuttgart\"]\n",
    "}\n",
    "for i in travel_log:\n",
    "    print(travel_log[i])\n"
   ]
  },
  {
   "cell_type": "code",
   "execution_count": 30,
   "metadata": {},
   "outputs": [
    {
     "ename": "IndexError",
     "evalue": "list assignment index out of range",
     "output_type": "error",
     "traceback": [
      "\u001b[1;31m---------------------------------------------------------------------------\u001b[0m",
      "\u001b[1;31mIndexError\u001b[0m                                Traceback (most recent call last)",
      "Cell \u001b[1;32mIn[30], line 19\u001b[0m\n\u001b[0;32m      1\u001b[0m \u001b[39m#nesting the dictonary in the dictonary and \u001b[39;00m\n\u001b[0;32m      2\u001b[0m \u001b[39m# here we can write any number of dictonary in the list\u001b[39;00m\n\u001b[0;32m      4\u001b[0m travel_log\u001b[39m=\u001b[39m[\n\u001b[0;32m      5\u001b[0m \n\u001b[0;32m      6\u001b[0m {\n\u001b[1;32m   (...)\u001b[0m\n\u001b[0;32m     16\u001b[0m }\n\u001b[0;32m     17\u001b[0m ]\n\u001b[1;32m---> 19\u001b[0m travel_log[\u001b[39m2\u001b[39;49m]\u001b[39m=\u001b[39m{\u001b[39m\"\u001b[39m\u001b[39mcount\u001b[39m\u001b[39m\"\u001b[39m}\n",
      "\u001b[1;31mIndexError\u001b[0m: list assignment index out of range"
     ]
    }
   ],
   "source": [
    "#nesting the dictonary in the dictonary and \n",
    "# here we can write any number of dictonary in the list\n",
    "\n",
    "travel_log=[\n",
    "\n",
    "{\n",
    "    \"country\":\"frence\",\n",
    "    \"cities_visited\":[\"paris\",\"lille\",\"dijon\"],\n",
    "    \"total_visit\":12\n",
    "    \n",
    "},\n",
    "{\n",
    "    \"country\":\"Germany\",\n",
    "    \"cities_visited\":[\"Berlin\",\"Hamburg\",\"Stuttgart\"],\n",
    "    \"total_visit\":85\n",
    "}\n",
    "]\n",
    "\n",
    "travel_log[2]={\"count\"}\n"
   ]
  },
  {
   "cell_type": "code",
   "execution_count": 40,
   "metadata": {},
   "outputs": [
    {
     "data": {
      "text/plain": [
       "[{'country': 'frence',\n",
       "  'cities_visited': ['paris', 'lille', 'dijon'],\n",
       "  'total_visit': 12},\n",
       " {'country': 'Germany',\n",
       "  'cities_visited': ['Berlin', 'Hamburg', 'Stuttgart'],\n",
       "  'total_visit': 85},\n",
       " {'country': 'russia',\n",
       "  'cities_visited': ['masco', 'saint'],\n",
       "  'total_visited': 2}]"
      ]
     },
     "execution_count": 40,
     "metadata": {},
     "output_type": "execute_result"
    }
   ],
   "source": [
    "#nesting the dictonary in the dictonary and \n",
    "# here we can write any number of dictonary in the list\n",
    "#appending the new dictonary to the list\n",
    "travel_log=[\n",
    "\n",
    "{\n",
    "    \"country\":\"frence\",\n",
    "    \"cities_visited\":[\"paris\",\"lille\",\"dijon\"],\n",
    "    \"total_visit\":12\n",
    "    \n",
    "},\n",
    "{\n",
    "    \"country\":\"Germany\",\n",
    "    \"cities_visited\":[\"Berlin\",\"Hamburg\",\"Stuttgart\"],\n",
    "    \"total_visit\":85\n",
    "}\n",
    "]\n",
    "\n",
    "new_country={}\n",
    "def add_new_country(country_visited,cities_in_country,times_visited):\n",
    "    new_country[\"country\"]=country_visited\n",
    "    new_country[\"cities_visited\"]=cities_in_country\n",
    "    new_country[\"total_visited\"]=times_visited\n",
    "\n",
    "add_new_country(\"russia\",[\"masco\",\"saint\"],2)\n",
    "travel_log.append(new_country)\n",
    "\n",
    "\n",
    "travel_log\n"
   ]
  },
  {
   "cell_type": "code",
   "execution_count": 11,
   "metadata": {},
   "outputs": [
    {
     "name": "stdout",
     "output_type": "stream",
     "text": [
      "WELCOME TO THE SECRET AUCTION PROGRAM.\n",
      "{'hii': 12, 'shankar': 255, 'loo': 25}\n",
      "the winner of the context is  shankar\n"
     ]
    }
   ],
   "source": [
    "#bidders app development\n",
    "print(\"WELCOME TO THE SECRET AUCTION PROGRAM.\")\n",
    "bidders={}\n",
    "def verify():\n",
    "    name=input(\"what is your name?: \")\n",
    "    price=int(input(\"what's your bid?: $\"))\n",
    "    bidders[name]=price\n",
    "    any_user_available=input(\"Are there any other bidders? Type 'yes' or 'no'.\").lower()\n",
    "    if any_user_available==\"yes\":\n",
    "        verify()\n",
    "    else:\n",
    "        pass\n",
    "verify()\n",
    "print(bidders)\n",
    "l1=list(bidders.values())\n",
    "l2=list(bidders.keys())\n",
    "max=l1[0]\n",
    "for j in range(0,len(l1)):\n",
    "    if max<=l1[j]:\n",
    "        max=l1[j]\n",
    "    \n",
    "    else:\n",
    "        pass\n",
    "l3=l1.index(max)\n",
    "print(\"the winner of the context is \",l2[l3])\n",
    "\n"
   ]
  },
  {
   "cell_type": "code",
   "execution_count": 10,
   "metadata": {},
   "outputs": [
    {
     "name": "stdout",
     "output_type": "stream",
     "text": [
      "the winner of the context is  shankar\n"
     ]
    }
   ],
   "source": [
    "l1=list(bidders.values())\n",
    "l2=list(bidders.keys())\n",
    "max=l1[0]\n",
    "for j in range(0,len(l1)):\n",
    "    if max<=l1[j]:\n",
    "        max=l1[j]\n",
    "    \n",
    "    else:\n",
    "        pass\n",
    "l3=l1.index(max)\n",
    "print(\"the winner of the context is \",l2[l3])\n",
    "\n"
   ]
  },
  {
   "cell_type": "code",
   "execution_count": 15,
   "metadata": {},
   "outputs": [
    {
     "name": "stdout",
     "output_type": "stream",
     "text": [
      "aa\n"
     ]
    },
    {
     "data": {
      "text/plain": [
       "dict_items([('hii', 25), ('aa', 125), ('bb', 2), ('cc', 25)])"
      ]
     },
     "execution_count": 15,
     "metadata": {},
     "output_type": "execute_result"
    }
   ],
   "source": [
    "a={\"hii\":25,\"aa\":125,\"bb\":2,\"cc\":25}\n",
    "l1=list(a.values())\n",
    "l2=list(a.keys())\n",
    "max=l[0]\n",
    "for j in range(0,len(l)):\n",
    "    if max<=l[j]:\n",
    "        max=l[j]\n",
    "    \n",
    "    else:\n",
    "        pass\n",
    "l3=l.index(max)\n",
    "print(l2[l3])\n",
    "a.items()"
   ]
  },
  {
   "cell_type": "code",
   "execution_count": 15,
   "metadata": {},
   "outputs": [
    {
     "name": "stdout",
     "output_type": "stream",
     "text": [
      "\n",
      "\n",
      "\n",
      "\n",
      "125\n"
     ]
    },
    {
     "data": {
      "text/plain": [
       "25"
      ]
     },
     "execution_count": 15,
     "metadata": {},
     "output_type": "execute_result"
    }
   ],
   "source": [
    "a={\"hii\":25,\"aa\":125,\"bb\":2,\"cc\":25}\n",
    "max=0\n",
    "for i in a.keys():\n",
    "    if max<=a[i]:\n",
    "        max=a[i]\n",
    "    print()     \n",
    "print(max)\n",
    "a[\"hii\"]"
   ]
  },
  {
   "cell_type": "code",
   "execution_count": 16,
   "metadata": {},
   "outputs": [
    {
     "name": "stdout",
     "output_type": "stream",
     "text": [
      "{'hii': 25, 'aa': 125, 'bb': 2, 'cc': 25}\n"
     ]
    }
   ],
   "source": [
    "print(a)   "
   ]
  },
  {
   "cell_type": "code",
   "execution_count": 1,
   "metadata": {},
   "outputs": [
    {
     "name": "stdout",
     "output_type": "stream",
     "text": [
      " jkf\n",
      "jkfkjv  jnkb kje\n"
     ]
    }
   ],
   "source": [
    "#DOCSTRING\n",
    "\n",
    "coo=''' jkf\n",
    "jkfkjv  jnkb kje'''\n",
    "print(coo)"
   ]
  },
  {
   "cell_type": "markdown",
   "metadata": {},
   "source": [
    "#calculator"
   ]
  },
  {
   "cell_type": "code",
   "execution_count": 43,
   "metadata": {},
   "outputs": [
    {
     "name": "stdout",
     "output_type": "stream",
     "text": [
      "\n",
      "+ \n",
      "-\n",
      "*\n",
      "/\n",
      "\n",
      "25+65\n"
     ]
    }
   ],
   "source": [
    "# global first_num,operation,next_num\n",
    "\n",
    "# first_num=float(input(\"What's the first number?:\"))\n",
    "# print('''\n",
    "# + \n",
    "# -\n",
    "# *\n",
    "# /\n",
    "# ''')\n",
    "# operation=input(\"Pick an operation : \")\n",
    "# next_num=float(input(\"What's the second number?:\"))\n",
    "# print(str(first_num) + operation + str(next_num))\n",
    "# def cal(first_num=0,next_num=0,operation=0):\n",
    "#     if operation == \"+\":\n",
    "#         print(\"addition\")\n",
    "#         return first_num+next_num\n",
    "#     elif operation==\"-\":\n",
    "#         return first_num-next_num\n",
    "# cal()\n"
   ]
  },
  {
   "cell_type": "code",
   "execution_count": 77,
   "metadata": {},
   "outputs": [
    {
     "name": "stdout",
     "output_type": "stream",
     "text": [
      "+\n",
      "-\n",
      "*\n",
      "/\n",
      "25.0 + 52.0 = 77.0\n"
     ]
    },
    {
     "ename": "SyntaxError",
     "evalue": "'return' outside function (2011217157.py, line 34)",
     "output_type": "error",
     "traceback": [
      "\u001b[1;36m  Cell \u001b[1;32mIn[77], line 34\u001b[1;36m\u001b[0m\n\u001b[1;33m    return True\u001b[0m\n\u001b[1;37m    ^\u001b[0m\n\u001b[1;31mSyntaxError\u001b[0m\u001b[1;31m:\u001b[0m 'return' outside function\n"
     ]
    }
   ],
   "source": [
    "#calcultor\n",
    "#add\n",
    "def addition(first_num,next_num):\n",
    "    return first_num+next_num\n",
    "\n",
    "\n",
    "#subtraction\n",
    "def subtraction(first_num,next_num):\n",
    "    return first_num-next_num\n",
    "\n",
    "#multiply\n",
    "def multiply(first_num,next_num):\n",
    "    return first_num*next_num\n",
    "\n",
    "#divide\n",
    "def divide(first_num,next_num):\n",
    "    return first_num/next_num\n",
    "\n",
    "operations={\"+\":addition,\"-\":subtraction,\"*\":multiply,\"/\":divide}\n",
    "\n",
    "first_num=float(input(\"What's the first number?:\"))\n",
    "for i in operations:\n",
    "    print(i)\n",
    "\n",
    "\n",
    "operator=input(\"Pick an operation : \")\n",
    "next_num=float(input(\"What's the second number?:\"))\n",
    "\n",
    "cal=operations[operator]\n",
    "result_1=cal(first_num,next_num)\n",
    "print(f\"{first_num} {operator} {next_num} = {result_1}\")\n",
    "user_req=input(f\"Type 'y' to continue calculating with {result},or type 'n' to start a new calculation\").lower()\n",
    "if user_req==\"y\":\n",
    "    return True\n",
    "elif user_req==\"n\":\n",
    "    return False\n",
    "while user_req== True:\n",
    "    operator=input(\"Pick an operation : \")\n",
    "    next_num=float(input(\"What's the next number?:\"))\n",
    "    cal=operations[operator]\n",
    "    result_2=cal(cal(first_num,next_num),next_num)\n",
    "    print(f\"{first_num} {operator} {next_num} = {result_2}\")\n",
    "\n",
    "\n",
    "\n",
    "\n",
    "    \n"
   ]
  },
  {
   "cell_type": "code",
   "execution_count": 58,
   "metadata": {},
   "outputs": [
    {
     "name": "stdout",
     "output_type": "stream",
     "text": [
      "25 + 65 = 90\n"
     ]
    }
   ],
   "source": [
    "first_num=25\n",
    "next_num=65\n",
    "operator=\"+\"\n",
    "cal=operations[operator]\n",
    "result=cal(first_num,next_num)\n",
    "print(f\"{first_num} {operation} {next_num} = {result}\")"
   ]
  },
  {
   "cell_type": "code",
   "execution_count": 56,
   "metadata": {},
   "outputs": [
    {
     "data": {
      "text/plain": [
       "<function __main__.a(f, s)>"
      ]
     },
     "execution_count": 56,
     "metadata": {},
     "output_type": "execute_result"
    }
   ],
   "source": [
    "global f,s\n",
    "f=25\n",
    "s=85\n",
    "def a(f,s):\n",
    "    f=25\n",
    "    s=85\n",
    "    return f+s\n",
    "a"
   ]
  },
  {
   "cell_type": "code",
   "execution_count": 68,
   "metadata": {},
   "outputs": [
    {
     "name": "stdout",
     "output_type": "stream",
     "text": [
      "False\n"
     ]
    }
   ],
   "source": [
    "a=input(\"jkk\")\n",
    "if a==\"y\":\n",
    "    a=\n",
    "print(bool(a))\n"
   ]
  },
  {
   "cell_type": "code",
   "execution_count": null,
   "metadata": {},
   "outputs": [],
   "source": []
  },
  {
   "cell_type": "code",
   "execution_count": null,
   "metadata": {},
   "outputs": [],
   "source": []
  },
  {
   "cell_type": "code",
   "execution_count": null,
   "metadata": {},
   "outputs": [],
   "source": []
  },
  {
   "cell_type": "code",
   "execution_count": null,
   "metadata": {},
   "outputs": [],
   "source": []
  },
  {
   "cell_type": "code",
   "execution_count": null,
   "metadata": {},
   "outputs": [],
   "source": []
  },
  {
   "cell_type": "code",
   "execution_count": null,
   "metadata": {},
   "outputs": [],
   "source": []
  },
  {
   "cell_type": "code",
   "execution_count": null,
   "metadata": {},
   "outputs": [],
   "source": []
  },
  {
   "cell_type": "code",
   "execution_count": null,
   "metadata": {},
   "outputs": [],
   "source": []
  },
  {
   "cell_type": "code",
   "execution_count": null,
   "metadata": {},
   "outputs": [],
   "source": []
  },
  {
   "cell_type": "code",
   "execution_count": null,
   "metadata": {},
   "outputs": [],
   "source": []
  },
  {
   "cell_type": "code",
   "execution_count": null,
   "metadata": {},
   "outputs": [],
   "source": []
  },
  {
   "cell_type": "code",
   "execution_count": null,
   "metadata": {},
   "outputs": [],
   "source": []
  },
  {
   "cell_type": "code",
   "execution_count": null,
   "metadata": {},
   "outputs": [],
   "source": []
  },
  {
   "cell_type": "code",
   "execution_count": null,
   "metadata": {},
   "outputs": [],
   "source": []
  },
  {
   "cell_type": "code",
   "execution_count": null,
   "metadata": {},
   "outputs": [],
   "source": []
  },
  {
   "cell_type": "code",
   "execution_count": null,
   "metadata": {},
   "outputs": [],
   "source": []
  }
 ],
 "metadata": {
  "kernelspec": {
   "display_name": "Python 3",
   "language": "python",
   "name": "python3"
  },
  "language_info": {
   "codemirror_mode": {
    "name": "ipython",
    "version": 3
   },
   "file_extension": ".py",
   "mimetype": "text/x-python",
   "name": "python",
   "nbconvert_exporter": "python",
   "pygments_lexer": "ipython3",
   "version": "3.11.4"
  },
  "orig_nbformat": 4
 },
 "nbformat": 4,
 "nbformat_minor": 2
}
