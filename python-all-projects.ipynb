{
 "cells": [
  {
   "cell_type": "code",
   "execution_count": 1,
   "metadata": {},
   "outputs": [
    {
     "name": "stdout",
     "output_type": "stream",
     "text": [
      "welcome to the Band Name Generator\n",
      "\n",
      "\n",
      "Your band name could be  \n"
     ]
    }
   ],
   "source": [
    "print(\"welcome to the Band Name Generator\")\n",
    "city_name=input(\"What's name of the city you grew up in ?\\n\")\n",
    "print(city_name)\n",
    "pet_name=input(\"What's your pet's name?\\n\")\n",
    "print(pet_name)\n",
    "print(\"Your band name could be \"+city_name+\" \"+pet_name)"
   ]
  },
  {
   "cell_type": "code",
   "execution_count": 2,
   "metadata": {},
   "outputs": [
    {
     "name": "stdout",
     "output_type": "stream",
     "text": [
      "85\n",
      "sum of the given digits is :  13\n"
     ]
    }
   ],
   "source": [
    "#adding of digits of the number\n",
    "num=input(\"enter the two digit number\")\n",
    "print(num)\n",
    "sum=0\n",
    "for i in range(0,len(num)):\n",
    "    sum=sum+int(num[i])\n",
    "print(\"sum of the given digits is : \",sum)\n",
    "\n",
    "#print(int(num[0])+int(num[1]))"
   ]
  },
  {
   "cell_type": "markdown",
   "metadata": {},
   "source": [
    "#operation order preference is PEMDASLR"
   ]
  },
  {
   "cell_type": "code",
   "execution_count": 14,
   "metadata": {},
   "outputs": [
    {
     "name": "stdout",
     "output_type": "stream",
     "text": [
      "your BMI is 33.59,you are obesity\n"
     ]
    }
   ],
   "source": [
    "#BMI CHALLENGE\n",
    "weight=float(input(\"enter the weight in kgs : \"))\n",
    "height=float(input(\"enter the height in meter : \"))\n",
    "BMI=round(weight/(height**2),2)\n",
    "if BMI<18.5:\n",
    "    print(f\"your BMI is {BMI},you are under weight\")\n",
    "elif 18.5<=BMI<25:\n",
    "    print(f\"your BMI is {BMI},you are normal weight\")\n",
    "elif 25<=BMI<30:\n",
    "    print(f\"your BMI is {BMI},you are over weight\")\n",
    "elif 30<=BMI<35:\n",
    "    print(f\"your BMI is {BMI},you are obesity\")\n",
    "else:\n",
    "    print(f\"your BMI is {BMI},you have abnormal obeycity\")"
   ]
  },
  {
   "cell_type": "markdown",
   "metadata": {},
   "source": [
    "#1.round()\n",
    "#2.formated string"
   ]
  },
  {
   "cell_type": "code",
   "execution_count": 4,
   "metadata": {},
   "outputs": [
    {
     "name": "stdout",
     "output_type": "stream",
     "text": [
      "3.3333333333333335\n",
      "3\n",
      "3.33\n",
      "3.33333\n"
     ]
    }
   ],
   "source": [
    "#1.round function\n",
    "a=10\n",
    "b=3\n",
    "c=a/b\n",
    "print(c)\n",
    "print(round(c))\n",
    "print(round(c,2))\n",
    "print(round(c,5))\n"
   ]
  },
  {
   "cell_type": "code",
   "execution_count": 5,
   "metadata": {},
   "outputs": [
    {
     "name": "stdout",
     "output_type": "stream",
     "text": [
      "your name is bhavani,and your age is 20 ,and  your salary is 10000\n",
      "your name is bhavani,and your age is 20,and  your salary is 10000\n"
     ]
    }
   ],
   "source": [
    "#2.formated string\n",
    "name=\"bhavani\"\n",
    "age=20\n",
    "sal=10000\n",
    "print(f\"your name is {name},and your age is {age} ,and  your salary is {sal}\")\n",
    "print(\"your name is {0},and your age is {1},and  your salary is {2}\".format(name,age,sal))\n",
    "\n"
   ]
  },
  {
   "cell_type": "code",
   "execution_count": 12,
   "metadata": {},
   "outputs": [
    {
     "name": "stdout",
     "output_type": "stream",
     "text": [
      "you have 3650 Days,520 Weaks,120 Months,10 Years\n"
     ]
    }
   ],
   "source": [
    "#calculate the how many months and how many weeks or \n",
    "# how many days lest for dead if we have the 90 year of life span\n",
    "age=int(input(\"what is your current age ?\"))\n",
    "Days=(90-age)*365\n",
    "Weaks=(90-age)*52\n",
    "Months=(90-age)*12\n",
    "Years=90-age\n",
    "print(\"you have {0} Days,{1} Weaks,{2} Months,{3} Years\".format(Days,Weaks,Months,Years))"
   ]
  },
  {
   "cell_type": "code",
   "execution_count": 22,
   "metadata": {},
   "outputs": [
    {
     "name": "stdout",
     "output_type": "stream",
     "text": [
      "Welcome to the tip calculator.\n",
      "Each person should pay ? 35.29\n"
     ]
    }
   ],
   "source": [
    "#claculating the bill and spliting among the members\n",
    "print(\"Welcome to the tip calculator.\")\n",
    "Bill=float(input(\"What was the total bill ? $\"))\n",
    "tip=float(input(\"What percentage tip do u like to give ? 10,12 or 15 \"))\n",
    "Total_bill=Bill+((tip/100)*Bill)\n",
    "people=int(input(\"How many people split the Bill ?\"))\n",
    "pay=(Total_bill)/(people)\n",
    "Each_pay=round((pay),2)\n",
    "print(\"Each person should pay ?\",Each_pay)"
   ]
  },
  {
   "cell_type": "code",
   "execution_count": 4,
   "metadata": {},
   "outputs": [
    {
     "name": "stdout",
     "output_type": "stream",
     "text": [
      "you have entered 524789 it is odd number\n"
     ]
    }
   ],
   "source": [
    "#finding even or not\n",
    "n=int(input(\"enter the number\"))\n",
    "if n%2==0:\n",
    "    print(f\"you have entered {n} it is even number\")\n",
    "else:\n",
    "    print(f\"you have entered {n} it is odd number\")"
   ]
  },
  {
   "cell_type": "code",
   "execution_count": 6,
   "metadata": {},
   "outputs": [
    {
     "name": "stdout",
     "output_type": "stream",
     "text": [
      "your are not elgible for ride beacuse u r 15 cm height it is below 12 cm\n"
     ]
    }
   ],
   "source": [
    "#elgiblity_check_for_ride_of_roller_coaster.\n",
    "height=int(input(\"enter the height in the cm\"))\n",
    "if height>=120:\n",
    "    print(\"you are elgible for rollercoaster ride\")\n",
    "    age=int(input(\"enter the your age \"))\n",
    "    if age<12:\n",
    "        print(\"your ticket price is $5\")\n",
    "    elif 12<=age<=18:\n",
    "        print(\"your ticket price is $7\")\n",
    "    elif 45<=age<=55:\n",
    "        print(\"\")\n",
    "    else:\n",
    "        print(\"your ticket price is $12\")\n",
    "else:\n",
    "    print(f\"your are not elgible for ride beacuse u r {height} cm height it is below 120 cm\")"
   ]
  },
  {
   "cell_type": "code",
   "execution_count": 21,
   "metadata": {},
   "outputs": [
    {
     "name": "stdout",
     "output_type": "stream",
     "text": [
      "2024 is a laep year\n"
     ]
    }
   ],
   "source": [
    "#leap year programme\n",
    "year=int(input(\"enter the year : \"))\n",
    "if (year%4)==0:\n",
    "    if (year%100)==0:\n",
    "        if (year%400)==0:\n",
    "            print(f\"{year} is a leap year\")\n",
    "        else:\n",
    "            print(f\"{year} is not a laep year\")\n",
    "    else:\n",
    "         print(f\"{year} is a laep year\")\n",
    "\n",
    "else:\n",
    "    print(f\"{year} is not a laep year\")"
   ]
  },
  {
   "cell_type": "code",
   "execution_count": 5,
   "metadata": {},
   "outputs": [
    {
     "name": "stdout",
     "output_type": "stream",
     "text": [
      "you are elgible for rollercoaster ride\n",
      "Adult ticket price is $12\n",
      "total bill u have to pay:$ 12\n"
     ]
    }
   ],
   "source": [
    "#elgiblity_check_for_ride_of_roller_coaster.\n",
    "height=int(input(\"enter the height in the cm: \"))\n",
    "if height>=120:\n",
    "    print(\"you are elgible for rollercoaster ride\")\n",
    "    age=int(input(\"enter the your age: \"))\n",
    "    if age<12:\n",
    "        print(\"child ticket price is $5\")\n",
    "        bill=5\n",
    "    elif 12<=age<=18:\n",
    "        print(\"youth ticket price is $7\")\n",
    "        bill=7\n",
    "    else:\n",
    "        print(\"Adult ticket price is $12\")\n",
    "        bill=12\n",
    "    want_photo=input(\"eneter the Y if u want photo\").upper()\n",
    "    if want_photo==\"Y\":\n",
    "        print(\"cost for each photo is $3\")\n",
    "        bill+=3\n",
    "    print(\"total bill u have to pay:$\",bill)  \n",
    "else:\n",
    "    print(f\"your are not elgible for ride beacuse u r {height} cm height it is below 120 cm\")"
   ]
  },
  {
   "cell_type": "code",
   "execution_count": 23,
   "metadata": {},
   "outputs": [
    {
     "name": "stdout",
     "output_type": "stream",
     "text": [
      "YOU have entered first name is hii\n",
      "YOU have entered second name is hellow\n",
      "your love percentage is 14\n",
      "your score is 14 \n"
     ]
    }
   ],
   "source": [
    "#love score clculator\n",
    "name1=input(\"enter the first name\").lower()\n",
    "name2=input(\"enter the second name\").lower()\n",
    "print(f\"YOU have entered first name is {name1}\")\n",
    "print(f\"YOU have entered second name is {name2}\")\n",
    "\n",
    "T=name1.count(\"t\")+name2.count(\"t\")\n",
    "R=name1.count(\"r\")+name2.count(\"r\")\n",
    "U=name1.count(\"u\")+name2.count(\"u\")\n",
    "E=name1.count(\"e\")+name2.count(\"e\")\n",
    "first_digit=str(T+R+U+E)\n",
    "\n",
    "L=name1.count(\"l\")+name2.count(\"l\")\n",
    "O=name1.count(\"o\")+name2.count(\"o\")\n",
    "V=name1.count(\"v\")+name2.count(\"v\")\n",
    "E=name1.count(\"e\")+name2.count(\"e\")\n",
    "second_digit=str(L+O+V+E)\n",
    "\n",
    "love_percentage=int(first_digit+second_digit)\n",
    "\n",
    "print(f\"your love percentage is {love_percentage}\")\n",
    "\n",
    "if 90<love_percentage<10:\n",
    "    print(f\"your score is {love_percentage} you go together like coke and mentos\")\n",
    "elif 40<love_percentage<50:\n",
    "    print(f\"your score is {love_percentage} you are alright together\")\n",
    "else:\n",
    "    print(f\"your score is {love_percentage} \")\n"
   ]
  },
  {
   "cell_type": "code",
   "execution_count": 44,
   "metadata": {},
   "outputs": [
    {
     "name": "stdout",
     "output_type": "stream",
     "text": [
      "Head\n",
      "Tail\n"
     ]
    }
   ],
   "source": [
    "#creating a head and taile by using the random method\n",
    "import random\n",
    "l=[\"Head\",\"Tail\"]\n",
    "random_num=int(random.random()*2)\n",
    "print(l[random_num])\n",
    "#or we can write the above programme\n",
    "if random_num==1:\n",
    "    print(\"Head\")\n",
    "else:\n",
    "    print(\"Tail\")"
   ]
  },
  {
   "cell_type": "code",
   "execution_count": 50,
   "metadata": {},
   "outputs": [
    {
     "name": "stdout",
     "output_type": "stream",
     "text": [
      "['']\n"
     ]
    }
   ],
   "source": [
    "#we can use split method to get the enteed value \n",
    "# by using , we get the sepaarte value\n",
    "#i/p:hii,hellow\n",
    "#o/p:['hii', 'hellow']\n",
    "\n",
    "names=input(\"enter the names\")\n",
    "a=names.split(\",\")\n",
    "print(a)\n"
   ]
  },
  {
   "cell_type": "code",
   "execution_count": 1,
   "metadata": {},
   "outputs": [
    {
     "name": "stdout",
     "output_type": "stream",
     "text": [
      "before the insertion\n",
      "['🟨', '🟨', '🟨']\n",
      "['🟨', '🟨', '🟨']\n",
      "['🟨', '🟨', '🟨']\n",
      "2 3\n",
      "after the insertion\n",
      "['🟨', '🟨', '🟨']\n",
      "['🟨', '🟨', ' x '] \n",
      "['🟨', '🟨', '🟨'] \n"
     ]
    }
   ],
   "source": [
    "#nested list project\n",
    "row_1=[\"🟨\",\"🟨\",\"🟨\"]\n",
    "row_2=[\"🟨\",\"🟨\",\"🟨\"]\n",
    "row_3=[\"🟨\",\"🟨\",\"🟨\"]\n",
    "row=[row_1,row_2,row_3]\n",
    "print(\"before the insertion\")\n",
    "print(f\"{row_1}\\n{row_2}\\n{row_3}\")\n",
    "position=int(input(\"enter the position where u have to nsert the table\"))\n",
    "first=position//10\n",
    "second=position-(first*10)\n",
    "print(first,second)\n",
    "row[first-1][second-1]=\" x \"\n",
    "print(\"after the insertion\")\n",
    "print(f\"{row_1}\\n{row_2} \\n{row_3} \")"
   ]
  },
  {
   "cell_type": "code",
   "execution_count": 2,
   "metadata": {},
   "outputs": [
    {
     "name": "stdout",
     "output_type": "stream",
     "text": [
      "\n",
      "    _______\n",
      "---'   ____)\n",
      "      (_____)\n",
      "      (_____)\n",
      "      (____)\n",
      "---.__(___)\n",
      "\n",
      "\n",
      "     _______\n",
      "---'    ____)____\n",
      "           ______)\n",
      "          _______)\n",
      "         _______)\n",
      "---.__________)\n",
      "\n",
      "computer input paper and user input is rock\n",
      "you lose!!!\n",
      "0 1\n",
      "\n",
      "     _______\n",
      "---'    ____)____\n",
      "           ______)\n",
      "          _______)\n",
      "         _______)\n",
      "---.__________)\n",
      "\n",
      "\n",
      "    _______\n",
      "---'   ____)\n",
      "      (_____)\n",
      "      (_____)\n",
      "      (____)\n",
      "---.__(___)\n",
      "\n",
      "computer input rock and user input is paper\n",
      "you win! by paper over a rock\n",
      "1 1\n",
      "you have DRAW the match\n"
     ]
    }
   ],
   "source": [
    "import random\n",
    "import sqlite3\n",
    "\n",
    "Rock=\"\"\"\n",
    "    _______\n",
    "---'   ____)\n",
    "      (_____)\n",
    "      (_____)\n",
    "      (____)\n",
    "---.__(___)\n",
    "\"\"\"\n",
    "\n",
    "Paper=\"\"\"\n",
    "     _______\n",
    "---'    ____)____\n",
    "           ______)\n",
    "          _______)\n",
    "         _______)\n",
    "---.__________)\n",
    "\"\"\"\n",
    "\n",
    "Scissors= \"\"\"\n",
    "    _______\n",
    "---'   ____)____\n",
    "          ______)\n",
    "       __________)\n",
    "      (____)\n",
    "---.__(___)\n",
    "\"\"\"\n",
    "\n",
    "no_of_round=int(input(\"enter the no-of rounds :\" ))\n",
    "user_count=0\n",
    "com_count=0\n",
    "for i in range(0,no_of_round):\n",
    "#user giving input\n",
    "    user_input=int(input(\"enter 1.Rock 2.Paper 3.Scissors :\"))\n",
    "    if user_input==1:\n",
    "        print(Rock)\n",
    "    elif user_input==2:\n",
    "        print(Paper)\n",
    "    elif user_input==3:\n",
    "        print(Scissors)\n",
    "    else:\n",
    "        print(\"please enter the valid number\")\n",
    "\n",
    "    \n",
    "    #computer random generated value\n",
    "    com_input=int(random.randint(1,3))\n",
    "\n",
    "    if com_input==1:\n",
    "        print(Rock)\n",
    "    if com_input==2:\n",
    "        print(Paper)\n",
    "    if com_input==3:\n",
    "        print(Scissors)\n",
    "    \n",
    "  \n",
    "    \n",
    "    #declaring winner\n",
    "    image=[\"\",\"rock\",\"paper\",\"scissors\"]\n",
    "    print(f\"computer input {image[com_input]} and user input is {image[user_input]}\")\n",
    "    if user_input==com_input:\n",
    "        print(\"you have draw the match but you dont get any points \")\n",
    "    elif  user_input==1 and com_input==3:\n",
    "        print(\"you win! by Rock over a scissors\")\n",
    "        user_count+=1\n",
    "    elif user_input==2 and com_input==1:\n",
    "        print(\"you win! by paper over a rock\")\n",
    "        user_count+=1\n",
    "    elif  user_input==3 and com_input==2:\n",
    "        print(\"you win! by scissors over a paper\")\n",
    "        user_count+=1\n",
    "    else:\n",
    "        print(\"you lose!!!\")\n",
    "        com_count+=1  \n",
    "    print(user_count,com_count)\n",
    "#connecting to the sql and redirecting data to sql\n",
    "    db=sqlite3.connect(\"Win_declare_database.db\")\n",
    "    cursor=db.cursor()\n",
    "    dcom_input=image[com_input]\n",
    "    duser_input=image[user_input]\n",
    "    dresult=(\"win\" if user_count>com_count else (\"Draw\" if user_count==com_count else \"lose\"))\n",
    "    val=[dcom_input,duser_input, user_count,com_count ,dresult]\n",
    "    cursor.execute(\"insert into win_declare(dcom_input,duser_input,user_count,com_count ,dresult) values(?,?,?,?,?)\",val)\n",
    "    db.commit()\n",
    "    db.close()\n",
    "\n",
    "#adding points to the winner and declaring the winner\n",
    "if com_count>user_count:\n",
    "    print(\"😭😭YOU HAVE LOST THE MATCH😭😭\")\n",
    "elif user_count>com_count:\n",
    "    print(\" 😎😎 YOU HAVE WIN THE GAME BRO!😎😎\")\n",
    "elif user_count==com_count:\n",
    "    print(\"you have DRAW the match\")\n",
    "else:\n",
    "    print(\"something went wrong\")\n",
    "\n",
    "\n"
   ]
  },
  {
   "cell_type": "code",
   "execution_count": 11,
   "metadata": {},
   "outputs": [
    {
     "data": {
      "text/plain": [
       "1"
      ]
     },
     "execution_count": 11,
     "metadata": {},
     "output_type": "execute_result"
    }
   ],
   "source": [
    "import random\n",
    "random.randint(1,3)"
   ]
  },
  {
   "cell_type": "code",
   "execution_count": 35,
   "metadata": {},
   "outputs": [
    {
     "name": "stdout",
     "output_type": "stream",
     "text": [
      "Welcome to pypassword Generator!\n",
      "enter the only 2 numbers\n"
     ]
    }
   ],
   "source": [
    "#python password generator\n",
    "print(\"Welcome to pypassword Generator!\")\n",
    "password_letters=int(input(\"How many Letters Could You Have in the Password\"))\n",
    "symbol=int(input(\"How many symbol Could You Like to have\"))\n",
    "number=int(input(\"How many number Could You Like to have\"))\n",
    "password_letters_count=0\n",
    "symbol_count=0\n",
    "number_count=0\n",
    "password=input(\"enter the password :\")\n",
    "for i in password:\n",
    "    if \"1\"<=i<=\"9\":\n",
    "        number_count+=1\n",
    "    elif not(\"A\"<=i<=\"Z\" or \"a\"<=i<=\"z\"):\n",
    "        symbol_count+=1\n",
    "    else:\n",
    "        password_letters_count+=1\n",
    "if symbol==symbol_count and number==number_count and symbol==symbol_count:\n",
    "    print(\"your password is :\",password)\n",
    "elif symbol!=symbol_count:\n",
    "    print(f\"enter the only {symbol} symbols \")\n",
    "elif number!=number_count:\n",
    "    print(f\"enter the only {number} numbers\")\n",
    "elif password!=password_letter_count:\n",
    "    print(f\"enetr the only {password} charcters for symbol\")\n",
    "else:\n",
    "    print(\"pls! enter the valid password\")\n"
   ]
  },
  {
   "cell_type": "code",
   "execution_count": 22,
   "metadata": {},
   "outputs": [
    {
     "name": "stdout",
     "output_type": "stream",
     "text": [
      "students list is :  ['52', '68', '98', '65']\n",
      "average among the list is :  2\n",
      "average of heights:  70\n",
      "number of heights 4\n"
     ]
    }
   ],
   "source": [
    "#average height\n",
    "stu_heights=input(\"enter the student height\").split()\n",
    "sum=0\n",
    "for stu in range(0,len(stu_heights)):\n",
    "    sum+=int(stu_heights[stu])\n",
    "print(\"students list is : \",stu_heights)\n",
    "avg=str(sum//len(stu_heights))\n",
    "for stu in range(0,len(stu_heights)):\n",
    "    if avg<stu_heights[stu]:\n",
    "        print(\"average among the list is : \",stu)\n",
    "print(\"average of heights: \",avg)\n",
    "print(\"number of heights\",(len(stu_heights)))"
   ]
  },
  {
   "cell_type": "code",
   "execution_count": null,
   "metadata": {},
   "outputs": [],
   "source": [
    "#connecting the sql \n",
    "import sqlite3\n",
    "db=sqlite3.connect(\"game_result.db\")\n",
    "print(db)\n",
    "cur=db.cursor()\n",
    "cur.execute(\"create table result(name varchar(50)   ) \")"
   ]
  },
  {
   "cell_type": "code",
   "execution_count": null,
   "metadata": {},
   "outputs": [],
   "source": [
    "import sqlite3\n",
    "db=sqlite3.connect(\"emp.db\")\n",
    "print(db)\n",
    "cur=db.cursor()\n",
    "cur.execute(\"create table employee(id int primary key,name varchar(50),email varchar(50),phone big int)\")\n",
    "print(cur.rowcount)\n",
    "db.commit()\n",
    "db.close()"
   ]
  },
  {
   "cell_type": "code",
   "execution_count": 1,
   "metadata": {},
   "outputs": [],
   "source": [
    "import sqlite3\n",
    "db=sqlite3.connect(\"Win_declare_database.db\")\n",
    "cursor=db.cursor()\n",
    "cursor.execute(\"create table IF NOT EXISTS win_declare(dcom_input varchar(50),duser_input varchar(50),user_count int ,com_count int,dresult varchar(50))\")\n",
    "db.commit()\n",
    "db.close()"
   ]
  },
  {
   "cell_type": "code",
   "execution_count": 3,
   "metadata": {},
   "outputs": [],
   "source": [
    "import sqlite3\n",
    "db=sqlite3.connect(\"Win_declare_database.db\")\n",
    "cursor=db.cursor()\n",
    "\n",
    "dcom_input=input(\"enter the computer input\")\n",
    "duser_input=input(\"enter th user input\")\n",
    "dresult=input(\"enter the result\")\n",
    "val=[dcom_input,duser_input,dresult]\n",
    "cursor.execute(\"insert into win_declare(dcom_input,duser_input,dresult) values(?,?,?)\",val)\n",
    "db.commit()\n",
    "db.close()"
   ]
  },
  {
   "cell_type": "code",
   "execution_count": 53,
   "metadata": {},
   "outputs": [
    {
     "name": "stdout",
     "output_type": "stream",
     "text": [
      "first maximum of given number is:  89\n",
      "second maximum numer is : 56\n",
      "[12, 56, 89, 52, 65]\n"
     ]
    }
   ],
   "source": [
    "#max of given number\n",
    "numbers=input(\"enter the numbers\").split()\n",
    "max1=0\n",
    "max2=0\n",
    "max3=0\n",
    "for i in range(0,len(numbers)):\n",
    "    numbers[i]=int(numbers[i])\n",
    "    if numbers[i]>=max1:\n",
    "        max2=max1\n",
    "        max1=numbers[i]\n",
    "print(\"first maximum of given number is: \",max1)\n",
    "print(\"second maximum numer is :\",max2)\n",
    "print(numbers)"
   ]
  },
  {
   "cell_type": "code",
   "execution_count": 25,
   "metadata": {},
   "outputs": [
    {
     "name": "stdout",
     "output_type": "stream",
     "text": [
      "sum of the all even numbers is : 2550\n"
     ]
    }
   ],
   "source": [
    "#sum of all the even numbers\n",
    "sum=0\n",
    "for i in range(1,101):\n",
    "    if i%2==0:\n",
    "        sum+=i\n",
    "print(\"sum of the all even numbers is :\",sum)\n",
    "    \n"
   ]
  },
  {
   "cell_type": "code",
   "execution_count": 32,
   "metadata": {},
   "outputs": [
    {
     "name": "stdout",
     "output_type": "stream",
     "text": [
      "1\n",
      "2\n",
      "Fizz\n",
      "4\n",
      "Buzz\n",
      "Fizz\n",
      "7\n",
      "8\n",
      "Fizz\n",
      "Buzz\n",
      "11\n",
      "Fizz\n",
      "13\n",
      "14\n",
      "FizzBuzz\n",
      "16\n",
      "17\n",
      "Fizz\n",
      "19\n",
      "Buzz\n",
      "Fizz\n",
      "22\n",
      "23\n",
      "Fizz\n",
      "Buzz\n",
      "26\n",
      "Fizz\n",
      "28\n",
      "29\n",
      "FizzBuzz\n",
      "31\n",
      "32\n",
      "Fizz\n",
      "34\n",
      "Buzz\n",
      "Fizz\n",
      "37\n",
      "38\n",
      "Fizz\n",
      "Buzz\n",
      "41\n",
      "Fizz\n",
      "43\n",
      "44\n",
      "FizzBuzz\n",
      "46\n",
      "47\n",
      "Fizz\n",
      "49\n",
      "Buzz\n",
      "Fizz\n",
      "52\n",
      "53\n",
      "Fizz\n",
      "Buzz\n",
      "56\n",
      "Fizz\n",
      "58\n",
      "59\n",
      "FizzBuzz\n",
      "61\n",
      "62\n",
      "Fizz\n",
      "64\n",
      "Buzz\n",
      "Fizz\n",
      "67\n",
      "68\n",
      "Fizz\n",
      "Buzz\n",
      "71\n",
      "Fizz\n",
      "73\n",
      "74\n",
      "FizzBuzz\n",
      "76\n",
      "77\n",
      "Fizz\n",
      "79\n",
      "Buzz\n",
      "Fizz\n",
      "82\n",
      "83\n",
      "Fizz\n",
      "Buzz\n",
      "86\n",
      "Fizz\n",
      "88\n",
      "89\n",
      "FizzBuzz\n",
      "91\n",
      "92\n",
      "Fizz\n",
      "94\n",
      "Buzz\n",
      "Fizz\n",
      "97\n",
      "98\n",
      "Fizz\n",
      "Buzz\n"
     ]
    }
   ],
   "source": [
    "# if numdiv by 3 fizz by 5 buzz by 3 and 5 is fizzbuzz\n",
    "for i in range(1,101):\n",
    "    if i%3==0 and i%5==0:\n",
    "        print(\"FizzBuzz\")\n",
    "    elif i%5==0:\n",
    "        print(\"Buzz\")\n",
    "    elif i%3==0:\n",
    "        print(\"Fizz\")\n",
    "    else:\n",
    "        print(i)"
   ]
  },
  {
   "cell_type": "code",
   "execution_count": null,
   "metadata": {},
   "outputs": [],
   "source": []
  },
  {
   "cell_type": "code",
   "execution_count": 112,
   "metadata": {},
   "outputs": [
    {
     "name": "stdout",
     "output_type": "stream",
     "text": [
      "10\n",
      "difference -16 value is  26 avg1 []\n",
      "difference -23 value is  33 avg1 []\n",
      "difference -7 value is  17 avg1 []\n",
      "difference -1 value is  11 avg1 []\n",
      "difference 1 value is  9 avg1 [1]\n",
      "difference 4 value is  6 avg1 [1, 4]\n",
      "difference -2 value is  12 avg1 [1, 4]\n",
      "[1, 4]\n",
      "first min value is: 1\n",
      "1\n",
      "1\n",
      "avg value among the list is : 9\n"
     ]
    }
   ],
   "source": [
    "#average among the list \n",
    "l=[26,33,17,11,9,6,12]\n",
    "avg=10\n",
    "print(avg)\n",
    "avg1=[]\n",
    "for i in l:\n",
    "    k=avg-i\n",
    "    if k>=0: \n",
    "        avg1+=[k]\n",
    "    print(\"difference\",k,\"value is \",i,\"avg1\",avg1)\n",
    "print(avg1)\n",
    "min=avg1[0]\n",
    "print(\"first min value is:\",min)\n",
    "for j in range(0,len(avg1)):\n",
    "    if avg1[j]<min:\n",
    "        min=avg1[j]\n",
    "    print(min)\n",
    "for m in l:\n",
    "    if min+m==avg:\n",
    "        print(\"avg value among the list is :\",m)\n"
   ]
  },
  {
   "cell_type": "code",
   "execution_count": 89,
   "metadata": {},
   "outputs": [
    {
     "name": "stdout",
     "output_type": "stream",
     "text": [
      "2\n",
      "min value is : 2\n",
      "4\n",
      "min value is : 2\n"
     ]
    }
   ],
   "source": [
    "m=[2,4]\n",
    "min=m[0]\n",
    "for i in range(0,len(m)):\n",
    "    print(m[i])\n",
    "    if m[i]<min:\n",
    "        min=m[i]\n",
    "    print(\"min value is :\",min)"
   ]
  },
  {
   "cell_type": "code",
   "execution_count": 4,
   "metadata": {},
   "outputs": [
    {
     "name": "stdout",
     "output_type": "stream",
     "text": [
      "0.6408541770123732\n"
     ]
    }
   ],
   "source": [
    "import random\n",
    "a=random.random()\n",
    "print(a)"
   ]
  },
  {
   "cell_type": "code",
   "execution_count": 6,
   "metadata": {},
   "outputs": [
    {
     "name": "stdout",
     "output_type": "stream",
     "text": [
      "pineapple <class 'str'>\n",
      "[\" '_'  '_'  '_'  '_'  '_'  '_'  '_'  '_'  '_' \"]\n",
      "Right\n",
      "wrong\n",
      "wrong\n",
      "wrong\n",
      "wrong\n",
      "Right\n",
      "Right\n",
      "wrong\n",
      "wrong\n"
     ]
    }
   ],
   "source": [
    "import random\n",
    "word=[\"apple\",\"pineapple\",\"banana\",\"grape\"]\n",
    "#choosing the random variable and assigning to word_chosen\n",
    "word_chosen=random.choice(word)\n",
    "print(word_chosen,type(word_chosen))\n",
    "guess=input(\"guess the letter\").lower()\n",
    "count=0\n",
    "word_length=len(word_chosen)\n",
    "blank_space=[\" '_' \"*word_length]\n",
    "print(blank_space)\n",
    "\n",
    "for letter in word_chosen:\n",
    "    if letter==guess:\n",
    "        print(\"Right\")\n",
    "    else :\n",
    "        print(\"wrong\")\n"
   ]
  },
  {
   "cell_type": "code",
   "execution_count": null,
   "metadata": {},
   "outputs": [],
   "source": []
  },
  {
   "cell_type": "code",
   "execution_count": null,
   "metadata": {},
   "outputs": [],
   "source": []
  },
  {
   "cell_type": "code",
   "execution_count": null,
   "metadata": {},
   "outputs": [],
   "source": []
  },
  {
   "cell_type": "code",
   "execution_count": null,
   "metadata": {},
   "outputs": [],
   "source": []
  },
  {
   "cell_type": "code",
   "execution_count": null,
   "metadata": {},
   "outputs": [],
   "source": []
  },
  {
   "cell_type": "code",
   "execution_count": null,
   "metadata": {},
   "outputs": [],
   "source": []
  },
  {
   "cell_type": "code",
   "execution_count": null,
   "metadata": {},
   "outputs": [],
   "source": []
  },
  {
   "cell_type": "code",
   "execution_count": null,
   "metadata": {},
   "outputs": [],
   "source": []
  },
  {
   "cell_type": "code",
   "execution_count": null,
   "metadata": {},
   "outputs": [],
   "source": []
  },
  {
   "cell_type": "code",
   "execution_count": null,
   "metadata": {},
   "outputs": [],
   "source": []
  },
  {
   "cell_type": "code",
   "execution_count": null,
   "metadata": {},
   "outputs": [],
   "source": []
  },
  {
   "cell_type": "code",
   "execution_count": null,
   "metadata": {},
   "outputs": [],
   "source": []
  },
  {
   "cell_type": "code",
   "execution_count": null,
   "metadata": {},
   "outputs": [],
   "source": []
  },
  {
   "cell_type": "code",
   "execution_count": null,
   "metadata": {},
   "outputs": [],
   "source": []
  }
 ],
 "metadata": {
  "kernelspec": {
   "display_name": "Python 3",
   "language": "python",
   "name": "python3"
  },
  "language_info": {
   "codemirror_mode": {
    "name": "ipython",
    "version": 3
   },
   "file_extension": ".py",
   "mimetype": "text/x-python",
   "name": "python",
   "nbconvert_exporter": "python",
   "pygments_lexer": "ipython3",
   "version": "3.11.4"
  },
  "orig_nbformat": 4
 },
 "nbformat": 4,
 "nbformat_minor": 2
}
